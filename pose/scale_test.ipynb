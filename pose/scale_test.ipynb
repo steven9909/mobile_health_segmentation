{
 "cells": [
  {
   "cell_type": "code",
   "execution_count": null,
   "metadata": {},
   "outputs": [],
   "source": [
    "import openvino as ov\n",
    "import numpy as np\n",
    "import sys\n",
    "import cv2\n",
    "from PIL import Image\n",
    "from matplotlib.patches import Circle\n",
    "import matplotlib.pyplot as plt"
   ]
  },
  {
   "cell_type": "code",
   "execution_count": null,
   "metadata": {},
   "outputs": [],
   "source": [
    "core = ov.Core()"
   ]
  },
  {
   "cell_type": "code",
   "execution_count": null,
   "metadata": {},
   "outputs": [],
   "source": [
    "model = core.read_model(model=\"./model/human-pose-estimation.xml\")\n",
    "compiled_model = core.compile_model(model=model, device_name=\"CPU\")"
   ]
  },
  {
   "cell_type": "code",
   "execution_count": null,
   "metadata": {},
   "outputs": [],
   "source": [
    "infer_request = compiled_model.create_infer_request()\n",
    "\n",
    "image = Image.open(\"./test2.jpg\")\n",
    "image = image.resize((256, 256))\n",
    "image.load()\n",
    "image = np.asarray(image, dtype=np.float32)\n",
    "\n",
    "image = np.expand_dims(image, axis=0)\n",
    "image = np.ascontiguousarray(np.transpose(image, (0, 3, 1, 2)))\n",
    "\n",
    "temp = np.squeeze(image, axis=0)\n",
    "temp = np.transpose(temp, (1, 2, 0))\n",
    "plt.imshow(np.uint8(temp))\n",
    "\n",
    "input_tensor = ov.Tensor(array=image, shared_memory=True)\n",
    "infer_request.set_input_tensor(input_tensor)"
   ]
  },
  {
   "cell_type": "code",
   "execution_count": null,
   "metadata": {},
   "outputs": [],
   "source": [
    "infer_request.start_async()\n",
    "infer_request.wait()"
   ]
  },
  {
   "cell_type": "code",
   "execution_count": null,
   "metadata": {},
   "outputs": [],
   "source": [
    "output = infer_request.get_output_tensor()\n",
    "output_buffer = output.data"
   ]
  },
  {
   "cell_type": "code",
   "execution_count": null,
   "metadata": {},
   "outputs": [],
   "source": [
    "output_buffer = np.squeeze(output_buffer, axis=0)\n",
    "output_buffer = np.transpose(output_buffer, axes=(1, 2, 0))\n",
    "heatmaps = cv2.resize(\n",
    "    output_buffer, (256, 256), fx=8, fy=8, interpolation=cv2.INTER_CUBIC\n",
    ")"
   ]
  },
  {
   "cell_type": "code",
   "execution_count": null,
   "metadata": {},
   "outputs": [],
   "source": [
    "def extract_keypoints(heatmap, min_confidence=-100):\n",
    "    ind = np.unravel_index(np.argmax(heatmap, axis=None), heatmap.shape)\n",
    "    if heatmap[ind] < min_confidence:\n",
    "        ind = (-1, -1)\n",
    "    else:\n",
    "        ind = (int(ind[1]), int(ind[0]))\n",
    "    return ind"
   ]
  },
  {
   "cell_type": "code",
   "execution_count": null,
   "metadata": {},
   "outputs": [],
   "source": [
    "keypoints = []\n",
    "for kpt_idx in range(16):\n",
    "    keypoints.append(extract_keypoints(heatmaps[:, :, kpt_idx]))"
   ]
  },
  {
   "cell_type": "code",
   "execution_count": null,
   "metadata": {},
   "outputs": [],
   "source": [
    "kpt_names = [\n",
    "    \"r_ank\",\n",
    "    \"r_kne\",\n",
    "    \"r_hip\",\n",
    "    \"l_hip\",\n",
    "    \"l_kne\",\n",
    "    \"l_ank\",\n",
    "    \"pel\",\n",
    "    \"spi\",\n",
    "    \"nec\",\n",
    "    \"hea\",\n",
    "    \"r_wri\",\n",
    "    \"r_elb\",\n",
    "    \"r_sho\",\n",
    "    \"l_sho\",\n",
    "    \"l_elb\",\n",
    "    \"l_wri\",\n",
    "]\n",
    "colors = [\n",
    "    (255, 0, 0),\n",
    "    (255, 0, 0),\n",
    "    (255, 0, 0),\n",
    "    (0, 0, 255),\n",
    "    (0, 0, 255),\n",
    "    (0, 0, 255),\n",
    "    (0, 255, 0),\n",
    "    (0, 255, 0),\n",
    "    (0, 255, 0),\n",
    "    (0, 255, 0),\n",
    "    (255, 0, 0),\n",
    "    (255, 0, 0),\n",
    "    (255, 0, 0),\n",
    "    (0, 0, 255),\n",
    "    (0, 0, 255),\n",
    "    (0, 0, 255),\n",
    "]\n",
    "\n",
    "fig, ax = plt.subplots(1)\n",
    "ax.set_aspect(\"equal\")\n",
    "\n",
    "image = np.squeeze(image, 0)\n",
    "image = np.transpose(image, (1, 2, 0))\n",
    "ax.imshow(np.uint8(image))\n",
    "\n",
    "arr = []\n",
    "\n",
    "for id in range(7, 16):\n",
    "    keypoint = keypoints[id]\n",
    "    if keypoint[0] != -1:\n",
    "        ax.add_patch(Circle((int(keypoint[0]), int(keypoint[1]))))\n",
    "        arr.extend((keypoint[0], keypoint[1]))"
   ]
  },
  {
   "cell_type": "code",
   "execution_count": null,
   "metadata": {},
   "outputs": [],
   "source": [
    "import math\n",
    "\n",
    "CUFF_SIZE = 12.5  # cm\n",
    "\n",
    "print(arr)\n",
    "\n",
    "r_wrist_x, r_wrist_y = arr[6], arr[7]\n",
    "r_elbow_x, r_elbow_y = arr[8], arr[9]\n",
    "r_shoulder_x, r_shoulder_y = arr[10], arr[11]\n",
    "\n",
    "r_low_arm_slope = (r_elbow_y - r_wrist_y) / (r_elbow_x - r_wrist_x)\n",
    "r_low_arm_int = r_elbow_y - r_low_arm_slope * r_elbow_x\n",
    "\n",
    "r_up_arm_slope = (r_elbow_y - r_shoulder_y) / (r_elbow_x - r_shoulder_x)\n",
    "r_up_arm_int = r_elbow_y - r_up_arm_slope * r_elbow_x\n",
    "\n",
    "left = (80, 100)\n",
    "down = (97, 102)\n",
    "\n",
    "right = (104, 55)\n",
    "up = (88, 52)\n",
    "\n",
    "midpoint_d = (left[0] + down[0]) / 2, (left[1] + down[1]) / 2\n",
    "midpoint_u = (right[0] + up[0]) / 2, (right[1] + up[1]) / 2\n",
    "\n",
    "midpoint_dist = math.sqrt(\n",
    "    (midpoint_d[0] - midpoint_u[0]) ** 2 + (midpoint_d[1] - midpoint_u[1]) ** 2\n",
    ")\n",
    "midpoint_r_dist = CUFF_SIZE / midpoint_dist\n",
    "\n",
    "\n",
    "def plot_line(slope, int):\n",
    "    x = np.arange(0, 256)\n",
    "    y = slope * x + int\n",
    "    y = y.clip(0, 256)\n",
    "    return x, y\n",
    "\n",
    "\n",
    "line_slope = (left[1] - down[1]) / (left[0] - down[0])\n",
    "line_int = left[1] - line_slope * left[0]\n",
    "\n",
    "line2_slope = (right[1] - up[1]) / (right[0] - up[0])\n",
    "line2_int = right[1] - line2_slope * right[0]\n",
    "\n",
    "# find the intersection between line_slope and r_up_arm_slope\n",
    "x = (r_up_arm_int - line_int) / (line_slope - r_up_arm_slope)\n",
    "y = line_slope * x + line_int\n",
    "\n",
    "# find the intersection between line2_slope and r_up_arm_slope\n",
    "x2 = (r_up_arm_int - line2_int) / (line2_slope - r_up_arm_slope)\n",
    "y2 = line2_slope * x2 + line2_int\n",
    "\n",
    "fig = plt.figure(figsize=(15, 15))\n",
    "ax = fig.add_subplot()\n",
    "ax.add_patch(Circle(left, radius=1, color=\"green\"))\n",
    "ax.add_patch(Circle(right, radius=1, color=\"blue\"))\n",
    "ax.add_patch(Circle(up, radius=1, color=\"cyan\"))\n",
    "ax.add_patch(Circle(down, radius=1, color=\"purple\"))\n",
    "\n",
    "ax.add_patch(Circle((x, y), radius=1, color=\"red\"))\n",
    "ax.add_patch(Circle((x2, y2), radius=1, color=\"red\"))\n",
    "\n",
    "ax.imshow(np.uint8(image))\n",
    "ax.plot(*plot_line(r_low_arm_slope, r_low_arm_int), color=\"red\", linewidth=1.5)\n",
    "ax.plot(*plot_line(r_up_arm_slope, r_up_arm_int), color=\"blue\", linewidth=1.5)\n",
    "ax.plot(*plot_line(line_slope, line_int), color=\"purple\", linewidth=1.5)\n",
    "ax.plot(*plot_line(line2_slope, line2_int), color=\"green\", linewidth=1.5)\n",
    "\n",
    "pixel_distance = math.sqrt(\n",
    "    (midpoint_d[0] - r_elbow_x) ** 2 + (midpoint_d[1] - r_elbow_y) ** 2\n",
    ")\n",
    "print(pixel_distance)\n",
    "\n",
    "# cuff_distance = math.sqrt((x - x2) ** 2 + (y - y2) ** 2)\n",
    "# print(cuff_distance)\n",
    "\n",
    "cuff_gap = midpoint_r_dist * pixel_distance\n",
    "print(f\"{cuff_gap} cm\")\n",
    "\n",
    "# 8.6 cm is desired distance"
   ]
  }
 ],
 "metadata": {
  "kernelspec": {
   "display_name": "venv",
   "language": "python",
   "name": "python3"
  },
  "language_info": {
   "codemirror_mode": {
    "name": "ipython",
    "version": 3
   },
   "file_extension": ".py",
   "mimetype": "text/x-python",
   "name": "python",
   "nbconvert_exporter": "python",
   "pygments_lexer": "ipython3",
   "version": "3.11.0"
  }
 },
 "nbformat": 4,
 "nbformat_minor": 2
}
