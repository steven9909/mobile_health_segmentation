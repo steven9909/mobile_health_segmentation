{
 "cells": [
  {
   "cell_type": "code",
   "execution_count": 1,
   "metadata": {},
   "outputs": [],
   "source": [
    "import openvino as ov\n",
    "import numpy as np\n",
    "import sys\n",
    "import cv2\n",
    "from PIL import Image\n",
    "from matplotlib.patches import Circle\n",
    "import matplotlib.pyplot as plt\n",
    "import glob"
   ]
  },
  {
   "cell_type": "code",
   "execution_count": 2,
   "metadata": {},
   "outputs": [],
   "source": [
    "core = ov.Core()"
   ]
  },
  {
   "cell_type": "code",
   "execution_count": 3,
   "metadata": {},
   "outputs": [],
   "source": [
    "model = core.read_model(model=\"./model/human-pose-estimation.xml\")\n",
    "compiled_model = core.compile_model(model=model, device_name=\"CPU\")"
   ]
  },
  {
   "cell_type": "code",
   "execution_count": null,
   "metadata": {},
   "outputs": [],
   "source": [
    "def extract_keypoints(heatmap, min_confidence=0.1):\n",
    "    ind = np.unravel_index(np.argmax(heatmap, axis=None), heatmap.shape)\n",
    "    if heatmap[ind] < min_confidence:\n",
    "        ind = (-1, -1)\n",
    "    else:\n",
    "        ind = (int(ind[1]), int(ind[0]))\n",
    "    return ind"
   ]
  },
  {
   "cell_type": "code",
   "execution_count": null,
   "metadata": {},
   "outputs": [],
   "source": [
    "infer_request = compiled_model.create_infer_request()\n",
    "\n",
    "files = glob.glob(\"../segmentation/original/*.jpg\")\n",
    "for file in files:\n",
    "    image = Image.open(file)\n",
    "    image = image.resize((256, 256))\n",
    "    image.load()\n",
    "    image = np.asarray(image, dtype=np.float32)\n",
    "\n",
    "    image = np.expand_dims(image, axis=0)\n",
    "    image = np.ascontiguousarray(np.transpose(image, (0, 3, 1, 2)))\n",
    "\n",
    "    temp = np.squeeze(image, axis=0)\n",
    "    temp = np.transpose(temp, (1, 2, 0))\n",
    "    plt.figure()\n",
    "    plt.imshow(np.uint8(temp))\n",
    "\n",
    "    input_tensor = ov.Tensor(array=image, shared_memory=True)\n",
    "    infer_request.set_input_tensor(input_tensor)\n",
    "\n",
    "    infer_request.start_async()\n",
    "    infer_request.wait()\n",
    "\n",
    "    output = infer_request.get_output_tensor()\n",
    "    output_buffer = output.data\n",
    "\n",
    "    output_buffer = np.squeeze(output_buffer, axis=0)\n",
    "    output_buffer = np.transpose(output_buffer, axes=(1, 2, 0))\n",
    "    heatmaps = cv2.resize(\n",
    "        output_buffer, (256, 256), fx=8, fy=8, interpolation=cv2.INTER_CUBIC\n",
    "    )\n",
    "\n",
    "    keypoints = []\n",
    "    for kpt_idx in range(16):\n",
    "        keypoints.append(extract_keypoints(heatmaps[:, :, kpt_idx]))\n",
    "\n",
    "    kpt_names = [\n",
    "        \"r_ank\",\n",
    "        \"r_kne\",\n",
    "        \"r_hip\",\n",
    "        \"l_hip\",\n",
    "        \"l_kne\",\n",
    "        \"l_ank\",\n",
    "        \"pel\",\n",
    "        \"spi\",\n",
    "        \"nec\",\n",
    "        \"hea\",\n",
    "        \"r_wri\",\n",
    "        \"r_elb\",\n",
    "        \"r_sho\",\n",
    "        \"l_sho\",\n",
    "        \"l_elb\",\n",
    "        \"l_wri\",\n",
    "    ]\n",
    "    colors = [\n",
    "        (255, 0, 0),\n",
    "        (255, 0, 0),\n",
    "        (255, 0, 0),\n",
    "        (0, 0, 255),\n",
    "        (0, 0, 255),\n",
    "        (0, 0, 255),\n",
    "        (0, 255, 0),\n",
    "        (0, 255, 0),\n",
    "        (0, 255, 0),\n",
    "        (0, 255, 0),\n",
    "        (255, 0, 0),\n",
    "        (255, 0, 0),\n",
    "        (255, 0, 0),\n",
    "        (0, 0, 255),\n",
    "        (0, 0, 255),\n",
    "        (0, 0, 255),\n",
    "    ]\n",
    "    plt.figure()\n",
    "    fig, ax = plt.subplots(1)\n",
    "    ax.set_aspect(\"equal\")\n",
    "\n",
    "    image = np.squeeze(image, 0)\n",
    "    image = np.transpose(image, (1, 2, 0))\n",
    "    ax.imshow(np.uint8(image))\n",
    "\n",
    "    for id in range(7, 16):\n",
    "        keypoint = keypoints[id]\n",
    "        if keypoint[0] != -1:\n",
    "            ax.add_patch(Circle((int(keypoint[0]), int(keypoint[1]))))"
   ]
  }
 ],
 "metadata": {
  "kernelspec": {
   "display_name": "venv",
   "language": "python",
   "name": "python3"
  },
  "language_info": {
   "codemirror_mode": {
    "name": "ipython",
    "version": 3
   },
   "file_extension": ".py",
   "mimetype": "text/x-python",
   "name": "python",
   "nbconvert_exporter": "python",
   "pygments_lexer": "ipython3",
   "version": "3.11.0"
  }
 },
 "nbformat": 4,
 "nbformat_minor": 2
}
