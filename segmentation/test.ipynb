{
 "cells": [
  {
   "cell_type": "code",
   "execution_count": null,
   "metadata": {},
   "outputs": [],
   "source": [
    "import cv2\n",
    "import matplotlib.pyplot as plt\n",
    "import numpy as np\n",
    "import torch\n",
    "from PIL import Image\n",
    "from torchvision.transforms.functional import normalize\n",
    "\n",
    "from models.unet import UNet"
   ]
  },
  {
   "cell_type": "code",
   "execution_count": null,
   "metadata": {},
   "outputs": [],
   "source": [
    "device = torch.device(\"cpu\")\n",
    "#model = UNet(3, 1)\n",
    "model = torch.hub.load(\n",
    "    \"milesial/Pytorch-UNet\",\n",
    "    \"unet_carvana\",\n",
    "    pretrained=True,\n",
    "    scale=1,\n",
    ")\n",
    "model.load_state_dict(torch.load(\"./output/unet.pth\")[\"model\"])\n",
    "model = model.to(device)\n",
    "model.eval()\n",
    "\n",
    "#image = np.asarray(Image.open(r\"./original/Photo on 2023-10-19 at 6.18 PM.jpg\"), dtype=np.float32)\n",
    "image = np.asarray(Image.open(r\"./original/Photo on 2023-10-19 at 6.18 PM.jpg\").convert(\"RGB\"), dtype=np.float32)\n",
    "\n",
    "image = cv2.resize(image, (256, 256), interpolation=cv2.INTER_CUBIC) / 255\n",
    "\n",
    "image = image.transpose((2, 0, 1))\n",
    "\n",
    "image = torch.from_numpy(image).to(device)\n",
    "\n",
    "image = normalize(image, mean=(0.5687, 0.5434, 0.5152), std=(0.2508, 0.2399, 0.2307))\n",
    "\n",
    "plt.imshow(image.permute(1, 2, 0).cpu().numpy())\n",
    "print(image.shape)\n",
    "\n",
    "image = torch.unsqueeze(image , 0)"
   ]
  },
  {
   "cell_type": "code",
   "execution_count": null,
   "metadata": {},
   "outputs": [],
   "source": [
    "output = model(image)\n",
    "\n",
    "output_1 = np.transpose(np.squeeze(torch.sigmoid(output.detach()).cpu().numpy(), 0), (1, 2, 0))[:, :, 0]\n",
    "output_2 = np.transpose(np.squeeze(torch.sigmoid(output.detach()).cpu().numpy(), 0), (1, 2, 0))[:, :, 1]\n",
    "plt.imshow(output_1)\n",
    "plt.colorbar()\n",
    "plt.figure()\n",
    "plt.imshow(output_2)\n",
    "plt.colorbar()"
   ]
  }
 ],
 "metadata": {
  "kernelspec": {
   "display_name": "venv",
   "language": "python",
   "name": "python3"
  },
  "language_info": {
   "codemirror_mode": {
    "name": "ipython",
    "version": 3
   },
   "file_extension": ".py",
   "mimetype": "text/x-python",
   "name": "python",
   "nbconvert_exporter": "python",
   "pygments_lexer": "ipython3",
   "version": "3.10.7"
  }
 },
 "nbformat": 4,
 "nbformat_minor": 2
}
