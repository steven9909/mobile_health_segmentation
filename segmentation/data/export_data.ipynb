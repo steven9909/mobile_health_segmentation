{
  "cells": [
    {
      "cell_type": "markdown",
      "metadata": {
        "id": "iVSS2J5a77Zu"
      },
      "source": [
        "<td>\n",
        "   <a target=\"_blank\" href=\"https://labelbox.com\" ><img src=\"https://labelbox.com/blog/content/images/2021/02/logo-v4.svg\" width=256/></a>\n",
        "</td>"
      ]
    },
    {
      "cell_type": "markdown",
      "metadata": {
        "id": "Rrkjoavn77Zw"
      },
      "source": [
        "<td>\n",
        "<a href=\"https://colab.research.google.com/github/Labelbox/labelbox-python/blob/master/examples/basics/export_data.ipynb\" target=\"_blank\"><img\n",
        "src=\"https://colab.research.google.com/assets/colab-badge.svg\" alt=\"Open In Colab\"></a>\n",
        "</td>\n",
        "\n",
        "<td>\n",
        "<a href=\"https://github.com/Labelbox/labelbox-python/tree/master/examples/basics/export_data.ipynb\" target=\"_blank\"><img\n",
        "src=\"https://img.shields.io/badge/GitHub-100000?logo=github&logoColor=white\" alt=\"GitHub\"></a>\n",
        "</td>"
      ]
    },
    {
      "cell_type": "markdown",
      "metadata": {},
      "source": [
        "Taken and modified from: https://colab.research.google.com/github/Labelbox/labelbox-python/blob/master/examples/basics/export_data.ipynb"
      ]
    },
    {
      "cell_type": "code",
      "execution_count": 26,
      "metadata": {
        "id": "kU_GuMG377Zy"
      },
      "outputs": [],
      "source": [
        "import urllib.request\n",
        "from pathlib import Path\n",
        "\n",
        "import labelbox as lb\n",
        "import yaml\n",
        "from PIL import Image"
      ]
    },
    {
      "cell_type": "code",
      "execution_count": 27,
      "metadata": {
        "id": "NAkqGqGs77Zy"
      },
      "outputs": [],
      "source": [
        "config = yaml.safe_load(open(\"./config.yml\"))\n",
        "\n",
        "client = lb.Client(api_key=config[\"api_key\"])\n",
        "\n",
        "save_dir = Path(\"./annotated\")\n",
        "save_dir.mkdir(parents=True, exist_ok=True)\n",
        "\n",
        "PROJECT_ID = config[\"project_id\"]\n",
        "project = client.get_project(PROJECT_ID)"
      ]
    },
    {
      "cell_type": "code",
      "execution_count": 28,
      "metadata": {
        "id": "_BhnBPFb77Zz"
      },
      "outputs": [],
      "source": [
        "# Set the export params to include/exclude certain fields.\n",
        "export_params = {\n",
        "    \"attachments\": True,\n",
        "    \"metadata_fields\": True,\n",
        "    \"data_row_details\": True,\n",
        "    \"project_details\": True,\n",
        "    \"label_details\": True,\n",
        "    \"performance_details\": True,\n",
        "    \"interpolated_frames\": True,\n",
        "}\n",
        "\n",
        "export_task = project.export_v2(params=export_params)\n",
        "export_task.wait_till_done()\n",
        "\n",
        "if export_task.errors:\n",
        "    print(export_task.errors)\n",
        "\n",
        "export_json = export_task.result"
      ]
    },
    {
      "cell_type": "code",
      "execution_count": 29,
      "metadata": {},
      "outputs": [],
      "source": [
        "feature_ids = [\n",
        "    (\n",
        "        row[\"data_row\"][\"external_id\"],\n",
        "        row[\"projects\"][PROJECT_ID][\"labels\"][0][\"annotations\"][\"objects\"][0][\n",
        "            \"feature_id\"\n",
        "        ],\n",
        "    )\n",
        "    for row in export_json\n",
        "]\n",
        "mask_urls = [\n",
        "    f\"https://api.labelbox.com/api/v1/projects/{PROJECT_ID}/annotations/{feature_id[1]}/index/1/mask\"\n",
        "    for feature_id in feature_ids\n",
        "]"
      ]
    },
    {
      "cell_type": "code",
      "execution_count": 30,
      "metadata": {
        "id": "lME9PojA77Z1"
      },
      "outputs": [],
      "source": [
        "for mask_url, feature_id in zip(mask_urls, feature_ids):\n",
        "    # Make the API request\n",
        "    req = urllib.request.Request(mask_url, headers=client.headers)\n",
        "    # Print the image of the mask\n",
        "    image = Image.open(urllib.request.urlopen(req))\n",
        "    name = feature_id[0].replace(\".jpg\", \".png\")\n",
        "    image.save(save_dir / name, \"png\")"
      ]
    }
  ],
  "metadata": {
    "colab": {
      "provenance": []
    },
    "kernelspec": {
      "display_name": "venv",
      "language": "python",
      "name": "python3"
    },
    "language_info": {
      "codemirror_mode": {
        "name": "ipython",
        "version": 3
      },
      "file_extension": ".py",
      "mimetype": "text/x-python",
      "name": "python",
      "nbconvert_exporter": "python",
      "pygments_lexer": "ipython3",
      "version": "3.11.5"
    }
  },
  "nbformat": 4,
  "nbformat_minor": 0
}
