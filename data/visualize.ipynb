{
 "cells": [
  {
   "cell_type": "code",
   "execution_count": null,
   "metadata": {},
   "outputs": [],
   "source": [
    "import glob\n",
    "\n",
    "import matplotlib.pyplot as plt\n",
    "import numpy as np\n",
    "import torch\n",
    "from PIL import Image\n",
    "from torch.utils.data import DataLoader, Dataset\n",
    "from torchvision import datasets, transforms\n",
    "\n",
    "\n",
    "class TempDataset(Dataset):\n",
    "    def __init__(self, image_path, mask_path):\n",
    "        self.image_files = glob.glob(image_path + \"/*.jpg\")\n",
    "        self.mask_files = glob.glob(mask_path + \"/*.png\")\n",
    "        self.transform = transforms.ToTensor()\n",
    "    \n",
    "    def __len__(self):\n",
    "        return len(self.image_files)\n",
    "    \n",
    "    def __getitem__(self, idx):\n",
    "        image = np.asarray(Image.open(self.image_files[idx]).convert(\"RGB\"))\n",
    "        mask = np.asarray(Image.open(self.mask_files[idx]).convert(\"L\"))\n",
    "        image = self.transform(image)\n",
    "        mask = self.transform(mask)\n",
    "        return image, mask, self.image_files[idx]\n",
    "    \n",
    "dataset = TempDataset(image_path=\"../original\", mask_path=\"../annotated\")\n",
    "loader = DataLoader(dataset, batch_size=len(dataset))\n",
    "\n",
    "for image, mask, name in loader:\n",
    "    unique = torch.unique(mask)\n",
    "    assert len(unique) == 2\n",
    "    assert unique[0] == 0 and unique[1] == 1\n",
    "    \n",
    "    image = image.numpy()\n",
    "    mask = mask.numpy()\n",
    "    for i in range(0, image.shape[0]):\n",
    "        plt.imshow(image[i].transpose(1, 2, 0))\n",
    "        plt.imshow(mask[i].transpose(1, 2, 0), alpha=0.5)\n",
    "        plt.title(name[i])\n",
    "        plt.figure(figsize=(10, 10))"
   ]
  }
 ],
 "metadata": {
  "kernelspec": {
   "display_name": "venv",
   "language": "python",
   "name": "python3"
  },
  "language_info": {
   "codemirror_mode": {
    "name": "ipython",
    "version": 3
   },
   "file_extension": ".py",
   "mimetype": "text/x-python",
   "name": "python",
   "nbconvert_exporter": "python",
   "pygments_lexer": "ipython3",
   "version": "3.10.7"
  }
 },
 "nbformat": 4,
 "nbformat_minor": 2
}
