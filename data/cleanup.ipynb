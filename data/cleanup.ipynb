{
 "cells": [
  {
   "cell_type": "code",
   "execution_count": 122,
   "metadata": {},
   "outputs": [],
   "source": [
    "import glob\n",
    "from PIL import Image\n",
    "from PIL.Image import Resampling\n",
    "import matplotlib.pyplot as plt\n",
    "import numpy as np\n",
    "from tqdm import tqdm"
   ]
  },
  {
   "cell_type": "code",
   "execution_count": 123,
   "metadata": {},
   "outputs": [],
   "source": [
    "image_files = glob.glob('../annotated/*.jpg')"
   ]
  },
  {
   "cell_type": "code",
   "execution_count": 124,
   "metadata": {},
   "outputs": [],
   "source": [
    "def BFS(mask):\n",
    "    visited = np.zeros_like(mask, dtype=np.int32)\n",
    "\n",
    "    max_size = 0\n",
    "\n",
    "    for iy, ix in np.ndindex(mask.shape):\n",
    "        if mask[iy, ix] == 0 or (visited[iy, ix] == -1 and mask[iy, ix] == 255):\n",
    "            continue\n",
    "        else:\n",
    "            queue = [(iy, ix)]\n",
    "            size = 0\n",
    "            while len(queue) > 0:\n",
    "                y, x = queue.pop()\n",
    "                visited[y, x] = -1\n",
    "                size += 1\n",
    "                for dy, dx in [(0, 1), (0, -1), (1, 0), (-1, 0)]:\n",
    "                    if 0 <= y + dy < mask.shape[0] and 0 <= x + dx < mask.shape[1]:\n",
    "                        if mask[y + dy, x + dx] == 255 and visited[y + dy, x + dx] == 0:\n",
    "                            queue.append((y + dy, x + dx))\n",
    "\n",
    "            visited[iy, ix] = size\n",
    "            max_size = max(max_size, size)\n",
    "\n",
    "    for iy, ix in np.ndindex(visited.shape):\n",
    "        if 0 < visited[iy, ix] < max_size and mask[iy, ix] == 255:\n",
    "            queue = [(iy, ix)]\n",
    "            while len(queue) > 0:\n",
    "                y, x = queue.pop()\n",
    "                mask[y, x] = 0\n",
    "                for dy, dx in [(0, 1), (0, -1), (1, 0), (-1, 0)]:\n",
    "                    if 0 <= y + dy < mask.shape[0] and 0 <= x + dx < mask.shape[1]:\n",
    "                        if mask[y + dy, x + dx] == 255:\n",
    "                            queue.append((y + dy, x + dx))\n",
    "\n",
    "    return mask\n",
    "\n",
    "def display_masks(mask1, mask2):\n",
    "    mask1_d = np.zeros((*mask1.shape, 3), dtype=np.uint8)\n",
    "    mask2_d = np.zeros((*mask2.shape, 3), dtype=np.uint8)\n",
    "\n",
    "    mask1_d[mask1 == 255] = [255, 0, 0]\n",
    "    mask2_d[mask2 == 255] = [0, 255, 0]\n",
    "\n",
    "    plt.figure(figsize=(10, 10))\n",
    "    plt.imshow(mask1_d, alpha=0.5)\n",
    "    plt.imshow(mask2_d, alpha=0.3)\n",
    "    plt.colorbar()"
   ]
  },
  {
   "cell_type": "code",
   "execution_count": 126,
   "metadata": {},
   "outputs": [
    {
     "name": "stderr",
     "output_type": "stream",
     "text": [
      "100%|██████████| 36/36 [02:38<00:00,  4.40s/it]\n"
     ]
    }
   ],
   "source": [
    "for image_file in tqdm(image_files):\n",
    "    mask_image = Image.open(image_file)\n",
    "    mask = np.asarray(mask_image)\n",
    "    mask_fixed = np.zeros_like(mask)\n",
    "    \n",
    "    # reject any values that are not 0 or 255\n",
    "    for iy, ix in np.ndindex(mask.shape):\n",
    "        if mask[iy, ix] > 127:\n",
    "            mask_fixed[iy, ix] = 255\n",
    "\n",
    "    mask_fixed = BFS(mask_fixed)\n",
    "    display_masks(mask, mask_fixed)\n",
    "    \n",
    "    mask_fixed = Image.fromarray(mask_fixed)\n",
    "    mask_fixed.save(\"./annotated/\" + image_file[image_file.rindex(\"\\\\\")+1:image_file.rindex(\".\")] + \".png\", \"PNG\")\n"
   ]
  }
 ],
 "metadata": {
  "kernelspec": {
   "display_name": "venv",
   "language": "python",
   "name": "python3"
  },
  "language_info": {
   "codemirror_mode": {
    "name": "ipython",
    "version": 3
   },
   "file_extension": ".py",
   "mimetype": "text/x-python",
   "name": "python",
   "nbconvert_exporter": "python",
   "pygments_lexer": "ipython3",
   "version": "3.10.7"
  }
 },
 "nbformat": 4,
 "nbformat_minor": 2
}
